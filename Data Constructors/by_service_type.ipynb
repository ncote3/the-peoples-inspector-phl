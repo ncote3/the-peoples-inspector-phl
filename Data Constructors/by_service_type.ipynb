{
 "cells": [
  {
   "cell_type": "code",
   "execution_count": 1,
   "id": "2c1afc67-2f95-4985-9e09-927946a6df6b",
   "metadata": {},
   "outputs": [],
   "source": [
    "import pandas as pd"
   ]
  },
  {
   "cell_type": "code",
   "execution_count": 12,
   "id": "00d0af4b-4448-49e4-a69c-3e30df737a04",
   "metadata": {},
   "outputs": [],
   "source": [
    "requests = pd.read_csv('data/311_requests.csv', low_memory=False).head(10000).convert_dtypes();"
   ]
  },
  {
   "cell_type": "code",
   "execution_count": 13,
   "id": "c139e2e2-c613-409e-84df-9200f7160a73",
   "metadata": {},
   "outputs": [
    {
     "name": "stdout",
     "output_type": "stream",
     "text": [
      "Rubbish/Recyclable Material Collection\n",
      "Street Defect\n",
      "Graffiti Removal\n",
      "Illegal Dumping\n",
      "Miscellaneous\n",
      "Abandoned Vehicle\n",
      "Complaint (Streets)\n",
      "Information Request\n",
      "Maintenance Complaint\n",
      "Street Light Outage\n",
      "Traffic Signal Emergency\n",
      "Sanitation Violation\n",
      "Street Trees\n",
      "Alley Light Outage\n",
      "Dangerous Sidewalk\n",
      "Parks and Rec Safety and Maintenance\n",
      "Traffic (Other)\n",
      "Dead Animal in Street\n",
      "Dumpster Violation\n",
      "Hydrant Request\n",
      "License Complaint\n",
      "Other (Streets)\n",
      "Smoke Detector\n",
      "Construction Complaints\n",
      "Stop Sign Repair\n",
      "LI Escalation\n",
      "Homeless Encampment Request\n",
      "Street Paving\n",
      "Inlet Cleaning\n",
      "Dangerous Building Complaint\n",
      "KB Escalations\n",
      "Fire Safety Complaint\n",
      "Eclipse Help\n",
      "Sanitation / Dumpster Violation\n",
      "Line Striping\n",
      "License_Complaint\n",
      "Right of Way Unit\n",
      "Opioid Response Unit\n",
      "Plastic Bag Complaint\n",
      "Abandoned Bike\n",
      "Police Complaint\n",
      "Manhole Cover\n",
      "Fire_Safety_Complaint\n",
      "Hydrant Knocked Down (No Water)\n",
      "Complaints against Fire or EMS\n",
      "Directory Assistance\n",
      "Right-of-Way\n",
      "Social Distancing Complaint\n",
      "Salting\n",
      "Shoveling\n",
      "Plastic Bag Notice\n",
      "Newsstand Outdoor Cafe\n"
     ]
    }
   ],
   "source": [
    "uniq_service_names = pd.unique(requests['service_name'])\n",
    "\n",
    "for name in uniq_service_names:\n",
    "    print(name)\n",
    "    requests[requests['service_name'] == name].to_csv(\"data/ByServiceName/500k/\" + name.replace(\"/\", \"_\") + \".csv\")"
   ]
  },
  {
   "cell_type": "code",
   "execution_count": null,
   "id": "ce5e999f-ed5c-4bf3-9d65-9ce96d00a1fc",
   "metadata": {},
   "outputs": [],
   "source": []
  }
 ],
 "metadata": {
  "kernelspec": {
   "display_name": "Python 3 (ipykernel)",
   "language": "python",
   "name": "python3"
  },
  "language_info": {
   "codemirror_mode": {
    "name": "ipython",
    "version": 3
   },
   "file_extension": ".py",
   "mimetype": "text/x-python",
   "name": "python",
   "nbconvert_exporter": "python",
   "pygments_lexer": "ipython3",
   "version": "3.10.4"
  }
 },
 "nbformat": 4,
 "nbformat_minor": 5
}
