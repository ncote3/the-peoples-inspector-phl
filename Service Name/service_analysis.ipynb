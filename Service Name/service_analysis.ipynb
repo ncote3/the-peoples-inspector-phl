{
 "cells": [
  {
   "cell_type": "code",
   "execution_count": 1,
   "id": "47c10c35-16ee-49e8-accc-a228de2fd630",
   "metadata": {},
   "outputs": [],
   "source": [
    "import pandas as pd\n",
    "import matplotlib"
   ]
  },
  {
   "cell_type": "code",
   "execution_count": 6,
   "id": "4ec330f5-955a-40f3-b2e2-fb93d08967a8",
   "metadata": {},
   "outputs": [],
   "source": [
    "requests = pd.read_csv('../data/311_requests.csv', low_memory=False).head(100000).convert_dtypes()"
   ]
  },
  {
   "cell_type": "code",
   "execution_count": 7,
   "id": "53fcf192-5053-4123-b98c-6d25907e78dd",
   "metadata": {},
   "outputs": [
    {
     "name": "stdout",
     "output_type": "stream",
     "text": [
      "Information Request                       47776\n",
      "Maintenance Complaint                     10082\n",
      "Rubbish/Recyclable Material Collection     5630\n",
      "Abandoned Vehicle                          5471\n",
      "Illegal Dumping                            5405\n",
      "Street Light Outage                        3736\n",
      "Street Defect                              3096\n",
      "Graffiti Removal                           2912\n",
      "Construction Complaints                    1573\n",
      "LI Escalation                              1295\n",
      "Street Trees                               1009\n",
      "Other (Streets)                             910\n",
      "License Complaint                           900\n",
      "Sanitation Violation                        811\n",
      "Traffic (Other)                             777\n",
      "Smoke Detector                              728\n",
      "Dangerous Sidewalk                          690\n",
      "Traffic Signal Emergency                    690\n",
      "Sanitation / Dumpster Violation             669\n",
      "Inlet Cleaning                              649\n",
      "Parks and Rec Safety and Maintenance        618\n",
      "Dangerous Building Complaint                595\n",
      "Alley Light Outage                          571\n",
      "Right of Way Unit                           493\n",
      "Homeless Encampment Request                 475\n",
      "Miscellaneous                               420\n",
      "Fire Safety Complaint                       383\n",
      "Complaint (Streets)                         264\n",
      "Eclipse Help                                248\n",
      "Dead Animal in Street                       207\n",
      "Stop Sign Repair                            177\n",
      "Street Paving                               149\n",
      "Hydrant Request                             117\n",
      "Manhole Cover                                91\n",
      "Opioid Response Unit                         77\n",
      "Line Striping                                66\n",
      "KB Escalations                               64\n",
      "Dumpster Violation                           59\n",
      "Plastic Bag Complaint                        51\n",
      "Complaints against Fire or EMS               16\n",
      "License_Complaint                            15\n",
      "Abandoned Bike                               15\n",
      "Police Complaint                             15\n",
      "Hydrant Knocked Down (No Water)               4\n",
      "Fire_Safety_Complaint                         1\n",
      "Name: service_name, dtype: Int64\n"
     ]
    }
   ],
   "source": [
    "print(requests[\"service_name\"].value_counts())\n"
   ]
  },
  {
   "cell_type": "code",
   "execution_count": null,
   "id": "6080225f-2bb1-4d93-87c7-7292c4f3e957",
   "metadata": {},
   "outputs": [],
   "source": []
  }
 ],
 "metadata": {
  "kernelspec": {
   "display_name": "Python 3 (ipykernel)",
   "language": "python",
   "name": "python3"
  },
  "language_info": {
   "codemirror_mode": {
    "name": "ipython",
    "version": 3
   },
   "file_extension": ".py",
   "mimetype": "text/x-python",
   "name": "python",
   "nbconvert_exporter": "python",
   "pygments_lexer": "ipython3",
   "version": "3.10.4"
  }
 },
 "nbformat": 4,
 "nbformat_minor": 5
}
